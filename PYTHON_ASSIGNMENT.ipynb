{
  "nbformat": 4,
  "nbformat_minor": 0,
  "metadata": {
    "colab": {
      "provenance": [],
      "authorship_tag": "ABX9TyOfeOixNfavNp5i378uW8Jo",
      "include_colab_link": true
    },
    "kernelspec": {
      "name": "python3",
      "display_name": "Python 3"
    },
    "language_info": {
      "name": "python"
    }
  },
  "cells": [
    {
      "cell_type": "markdown",
      "metadata": {
        "id": "view-in-github",
        "colab_type": "text"
      },
      "source": [
        "<a href=\"https://colab.research.google.com/github/abi672003/Assignment---Python/blob/main/PYTHON_ASSIGNMENT.ipynb\" target=\"_parent\"><img src=\"https://colab.research.google.com/assets/colab-badge.svg\" alt=\"Open In Colab\"/></a>"
      ]
    },
    {
      "cell_type": "markdown",
      "source": [
        "**PYTHON ASSIGNMENT**"
      ],
      "metadata": {
        "id": "qU7jX6xUIxOs"
      }
    },
    {
      "cell_type": "code",
      "source": [
        "import numpy as np\n",
        "import pandas as pd"
      ],
      "metadata": {
        "id": "Mr5hRuUBzZea"
      },
      "execution_count": 2,
      "outputs": []
    },
    {
      "cell_type": "code",
      "execution_count": null,
      "metadata": {
        "colab": {
          "base_uri": "https://localhost:8080/"
        },
        "id": "w64hgaL6y5dE",
        "outputId": "b48b6543-af9c-4ec4-da7e-a1b6db6630ed"
      },
      "outputs": [
        {
          "output_type": "execute_result",
          "data": {
            "text/plain": [
              "[11, 12, 13, 14, 50, 60]"
            ]
          },
          "metadata": {},
          "execution_count": 5
        }
      ],
      "source": [
        "# Q1. L is a list defined as L= [11, 12, 13, 14].\n",
        "L=[11, 12, 13, 14]\n",
        "\n",
        "# i) WAP to add 50 and 60 to L.\n",
        "L.append(50)\n",
        "L.append(60)\n",
        "L"
      ]
    },
    {
      "cell_type": "code",
      "source": [
        "#(ii) WAP to remove 11 and 13 from L.\n",
        "L.remove(11)\n",
        "L.remove(13)\n",
        "L"
      ],
      "metadata": {
        "colab": {
          "base_uri": "https://localhost:8080/"
        },
        "id": "k7CWaw-z0L7D",
        "outputId": "64cb5c29-8386-45cc-b6ca-836f79ff0ff5"
      },
      "execution_count": null,
      "outputs": [
        {
          "output_type": "execute_result",
          "data": {
            "text/plain": [
              "[12, 14, 50, 60]"
            ]
          },
          "metadata": {},
          "execution_count": 7
        }
      ]
    },
    {
      "cell_type": "code",
      "source": [
        "#(iii) WAP to sort L in ascending order.\n",
        "L.sort()\n",
        "L"
      ],
      "metadata": {
        "colab": {
          "base_uri": "https://localhost:8080/"
        },
        "id": "4hiAppkx0iUV",
        "outputId": "a0389ca1-e80b-4a01-acf3-ea41c87fda94"
      },
      "execution_count": null,
      "outputs": [
        {
          "output_type": "execute_result",
          "data": {
            "text/plain": [
              "[12, 14, 50, 60]"
            ]
          },
          "metadata": {},
          "execution_count": 8
        }
      ]
    },
    {
      "cell_type": "code",
      "source": [
        "#(iv) WAP to sort L in descending order.\n",
        "L.sort(reverse=True)\n",
        "L"
      ],
      "metadata": {
        "colab": {
          "base_uri": "https://localhost:8080/"
        },
        "id": "OryJJqYy0rm4",
        "outputId": "9efdb6e9-3b98-4d30-946a-03cc91445524"
      },
      "execution_count": null,
      "outputs": [
        {
          "output_type": "execute_result",
          "data": {
            "text/plain": [
              "[60, 50, 14, 12]"
            ]
          },
          "metadata": {},
          "execution_count": 11
        }
      ]
    },
    {
      "cell_type": "code",
      "source": [
        "#(v) WAP to search for 13 in L.\n",
        "if 13 in L:\n",
        "  print(\"13 is in the list\")\n",
        "else:\n",
        "  print(\"13 is not in the list\")"
      ],
      "metadata": {
        "colab": {
          "base_uri": "https://localhost:8080/"
        },
        "id": "enAfhfdl1Fu-",
        "outputId": "81a036b7-606c-44cd-d86a-7d1e56bde9fd"
      },
      "execution_count": null,
      "outputs": [
        {
          "output_type": "stream",
          "name": "stdout",
          "text": [
            "13 is not in the list\n"
          ]
        }
      ]
    },
    {
      "cell_type": "code",
      "source": [
        "#(vi) WAP to count the number of elements present in L.\n",
        "count=len(L)\n",
        "count"
      ],
      "metadata": {
        "colab": {
          "base_uri": "https://localhost:8080/"
        },
        "id": "mIsiJgIU1XYH",
        "outputId": "e65bd442-f14f-4f1d-ffed-459c7286a0af"
      },
      "execution_count": null,
      "outputs": [
        {
          "output_type": "execute_result",
          "data": {
            "text/plain": [
              "4"
            ]
          },
          "metadata": {},
          "execution_count": 15
        }
      ]
    },
    {
      "cell_type": "code",
      "source": [
        "#(vii) WAP to sum all the elements in L.\n",
        "sum_of_elements=sum(L)\n",
        "sum_of_elements"
      ],
      "metadata": {
        "colab": {
          "base_uri": "https://localhost:8080/"
        },
        "id": "YHIIHY5p2JvO",
        "outputId": "a55d4ccf-4144-4551-a43d-74c28209cd46"
      },
      "execution_count": null,
      "outputs": [
        {
          "output_type": "execute_result",
          "data": {
            "text/plain": [
              "136"
            ]
          },
          "metadata": {},
          "execution_count": 16
        }
      ]
    },
    {
      "cell_type": "code",
      "source": [
        "#viii) WAP to sum all ODD numbers in L.\n",
        "L=[11,12,13,14]\n",
        "sum_of_oddnum = sum([num for num in L if num % 2 != 0])\n",
        "sum_of_oddnum"
      ],
      "metadata": {
        "colab": {
          "base_uri": "https://localhost:8080/"
        },
        "id": "ch9xvgM-2cw6",
        "outputId": "cec14d62-5185-414b-9d0d-6d059d44d180"
      },
      "execution_count": null,
      "outputs": [
        {
          "output_type": "execute_result",
          "data": {
            "text/plain": [
              "24"
            ]
          },
          "metadata": {},
          "execution_count": 21
        }
      ]
    },
    {
      "cell_type": "code",
      "source": [
        "#(ix) WAP to sum all EVEN numbers in L.\n",
        "sum_of_evennum=sum([num for num in L if num % 2 == 0])\n",
        "sum_of_evennum"
      ],
      "metadata": {
        "colab": {
          "base_uri": "https://localhost:8080/"
        },
        "id": "gvrcTEzL3Xu0",
        "outputId": "39bd032c-b7a9-444e-818f-99fb54de3c2e"
      },
      "execution_count": null,
      "outputs": [
        {
          "output_type": "execute_result",
          "data": {
            "text/plain": [
              "26"
            ]
          },
          "metadata": {},
          "execution_count": 22
        }
      ]
    },
    {
      "cell_type": "code",
      "source": [
        "#(x) WAP to sum all PRIME numbers in L.\n",
        "def prime(n):\n",
        "    if n < 2:\n",
        "        return False\n",
        "    for i in range(2, int(n ** 0.5) + 1):\n",
        "        if n % i == 0:\n",
        "            return False\n",
        "    return True\n",
        "\n",
        "sum_of_prime_num = sum([num for num in L if prime(num)])\n",
        "sum_of_prime_num"
      ],
      "metadata": {
        "colab": {
          "base_uri": "https://localhost:8080/"
        },
        "id": "nCqSsrie4gpJ",
        "outputId": "ac9531a2-0d5c-42d8-de8c-0be0d234c2aa"
      },
      "execution_count": null,
      "outputs": [
        {
          "output_type": "execute_result",
          "data": {
            "text/plain": [
              "24"
            ]
          },
          "metadata": {},
          "execution_count": 23
        }
      ]
    },
    {
      "cell_type": "code",
      "source": [
        "#(xi) WAP to clear all the elements in L.\n",
        "L.clear()\n",
        "L"
      ],
      "metadata": {
        "colab": {
          "base_uri": "https://localhost:8080/"
        },
        "id": "NGy9xcIj5H_3",
        "outputId": "5710d803-bdb6-4fa5-d012-1fc619ed887a"
      },
      "execution_count": null,
      "outputs": [
        {
          "output_type": "execute_result",
          "data": {
            "text/plain": [
              "[]"
            ]
          },
          "metadata": {},
          "execution_count": 27
        }
      ]
    },
    {
      "cell_type": "code",
      "source": [
        "#(xii) WAP to delete L.\n",
        "del L\n"
      ],
      "metadata": {
        "id": "e4SX_uzC5Z1P"
      },
      "execution_count": null,
      "outputs": []
    },
    {
      "cell_type": "markdown",
      "source": [
        "Q2. D is a dictionary defined as D= {1:5.6, 2:7.8, 3:6.6, 4:8.7, 5:7.7}."
      ],
      "metadata": {
        "id": "XCxodL5f501U"
      }
    },
    {
      "cell_type": "code",
      "source": [
        "D= {1:5.6, 2:7.8, 3:6.6, 4:8.7, 5:7.7}\n",
        "#(i) WAP to add new entry in D; key=8 and value is 8.8\n",
        "D[8]=8.8\n",
        "D"
      ],
      "metadata": {
        "colab": {
          "base_uri": "https://localhost:8080/"
        },
        "id": "jm6L9UVf53vg",
        "outputId": "eb33b46d-3515-4768-db18-e453d0b61fe2"
      },
      "execution_count": null,
      "outputs": [
        {
          "output_type": "execute_result",
          "data": {
            "text/plain": [
              "{1: 5.6, 2: 7.8, 3: 6.6, 4: 8.7, 5: 7.7, 8: 8.8}"
            ]
          },
          "metadata": {},
          "execution_count": 36
        }
      ]
    },
    {
      "cell_type": "code",
      "source": [
        "#(ii) WAP to remove key=2.\n",
        "del D[2]\n",
        "D"
      ],
      "metadata": {
        "colab": {
          "base_uri": "https://localhost:8080/"
        },
        "id": "p-dIPVrs77wN",
        "outputId": "17144c82-b294-4fc2-b804-3dbc63e43237"
      },
      "execution_count": null,
      "outputs": [
        {
          "output_type": "execute_result",
          "data": {
            "text/plain": [
              "{1: 5.6, 3: 6.6, 4: 8.7, 5: 7.7, 8: 8.8}"
            ]
          },
          "metadata": {},
          "execution_count": 37
        }
      ]
    },
    {
      "cell_type": "code",
      "source": [
        "#(iii) WAP to check weather 6 key is present in D.\n",
        "if 6 in D:\n",
        "    print(\"Key 6 is present.\")\n",
        "else:\n",
        "    print(\"Key 6 is not present.\")"
      ],
      "metadata": {
        "colab": {
          "base_uri": "https://localhost:8080/"
        },
        "id": "iNWEnHjy8FCe",
        "outputId": "ee6c26eb-d9ac-43f6-e76e-2d38b644f3d0"
      },
      "execution_count": null,
      "outputs": [
        {
          "output_type": "stream",
          "name": "stdout",
          "text": [
            "Key 6 is not present.\n"
          ]
        }
      ]
    },
    {
      "cell_type": "code",
      "source": [
        "#(iv) WAP to count the number of elements present in D.\n",
        "count=len(D)\n",
        "count"
      ],
      "metadata": {
        "colab": {
          "base_uri": "https://localhost:8080/"
        },
        "id": "bM7xG76g8UYz",
        "outputId": "47b74eaa-f7ef-4eb3-fb6b-fad792859ab6"
      },
      "execution_count": null,
      "outputs": [
        {
          "output_type": "execute_result",
          "data": {
            "text/plain": [
              "5"
            ]
          },
          "metadata": {},
          "execution_count": 39
        }
      ]
    },
    {
      "cell_type": "code",
      "source": [
        "#(v) WAP to add all the values present D.\n",
        "sum_of_values = sum(D.values())\n",
        "sum_of_values"
      ],
      "metadata": {
        "colab": {
          "base_uri": "https://localhost:8080/"
        },
        "id": "iAh97l608evz",
        "outputId": "6ad044cc-45b6-46fa-bdc7-8d5a74806705"
      },
      "execution_count": null,
      "outputs": [
        {
          "output_type": "execute_result",
          "data": {
            "text/plain": [
              "37.4"
            ]
          },
          "metadata": {},
          "execution_count": 40
        }
      ]
    },
    {
      "cell_type": "code",
      "source": [
        "#vi) WAP to update the value of 3 to 7.1.\n",
        "D[3] = 7.1\n",
        "D"
      ],
      "metadata": {
        "colab": {
          "base_uri": "https://localhost:8080/"
        },
        "id": "qAyRkWMQ80OR",
        "outputId": "b22dee9a-cad8-403f-8190-111d84bd81d6"
      },
      "execution_count": null,
      "outputs": [
        {
          "output_type": "execute_result",
          "data": {
            "text/plain": [
              "{1: 5.6, 3: 7.1, 4: 8.7, 5: 7.7, 8: 8.8}"
            ]
          },
          "metadata": {},
          "execution_count": 41
        }
      ]
    },
    {
      "cell_type": "code",
      "source": [
        "#(vii) WAP to clear the dictionary.\n",
        "D.clear()\n",
        "D"
      ],
      "metadata": {
        "colab": {
          "base_uri": "https://localhost:8080/"
        },
        "id": "IBrBCKDP9Ysn",
        "outputId": "136c5993-3adf-4c11-d44e-e80afe1247f1"
      },
      "execution_count": null,
      "outputs": [
        {
          "output_type": "execute_result",
          "data": {
            "text/plain": [
              "{}"
            ]
          },
          "metadata": {},
          "execution_count": 43
        }
      ]
    },
    {
      "cell_type": "markdown",
      "source": [
        "Q3. S1 is a set defined as S1= [10, 20, 30, 40, 50, 60]. S2 is a set defined as S2= [40, 50, 60, 70, 80, 90]."
      ],
      "metadata": {
        "id": "lfP6XhP29vBA"
      }
    },
    {
      "cell_type": "code",
      "source": [
        "S1 = {10, 20, 30, 40, 50, 60}\n",
        "S2 = {40, 50, 60, 70, 80, 90}\n",
        "#(i) WAP to add 55 and 66 in Set S1.\n",
        "S1.add(55)\n",
        "S1.add(66)\n",
        "print(S1)"
      ],
      "metadata": {
        "colab": {
          "base_uri": "https://localhost:8080/"
        },
        "id": "6bSH10C89yka",
        "outputId": "1f062cef-6930-4d39-96f5-e1784c8cf10f"
      },
      "execution_count": null,
      "outputs": [
        {
          "output_type": "stream",
          "name": "stdout",
          "text": [
            "{50, 66, 20, 55, 40, 10, 60, 30}\n"
          ]
        }
      ]
    },
    {
      "cell_type": "code",
      "source": [
        "#(ii) WAP to remove 10 and 30 from Set S1.\n",
        "S1.remove(10)\n",
        "S1.remove(30)\n",
        "print(S1)"
      ],
      "metadata": {
        "colab": {
          "base_uri": "https://localhost:8080/"
        },
        "id": "aM4fECCT_USH",
        "outputId": "4c070f7a-4783-40f1-ce2f-b03d5ccccaef"
      },
      "execution_count": null,
      "outputs": [
        {
          "output_type": "stream",
          "name": "stdout",
          "text": [
            "{50, 66, 20, 55, 40, 60}\n"
          ]
        }
      ]
    },
    {
      "cell_type": "code",
      "source": [
        "#(iii) WAP to check whether 40 is present in S1.\n",
        "if 40 in S1:\n",
        "    print(\"40 is present in the set S1.\")\n",
        "else:\n",
        "    print(\"40 is not present in the set S1.\")"
      ],
      "metadata": {
        "colab": {
          "base_uri": "https://localhost:8080/"
        },
        "id": "T68t5ddu_ZW5",
        "outputId": "ef0a60c1-86cf-4f25-c1c4-31af79b8e24c"
      },
      "execution_count": null,
      "outputs": [
        {
          "output_type": "stream",
          "name": "stdout",
          "text": [
            "40 is present in the set S1.\n"
          ]
        }
      ]
    },
    {
      "cell_type": "code",
      "source": [
        "#(iv) WAP to find the union between S1 and S2.\n",
        "union = S1.union(S2)\n",
        "print(\"Union of S1 and S2:\", union)\n"
      ],
      "metadata": {
        "colab": {
          "base_uri": "https://localhost:8080/"
        },
        "id": "NNs3ZNDH_s7O",
        "outputId": "a829b493-a177-4e14-adc9-9c80167eb00d"
      },
      "execution_count": null,
      "outputs": [
        {
          "output_type": "stream",
          "name": "stdout",
          "text": [
            "Union of S1 and S2: {66, 70, 40, 80, 50, 20, 55, 90, 60}\n"
          ]
        }
      ]
    },
    {
      "cell_type": "code",
      "source": [
        "#v) WAP to find the intersection between S1 and S2.\n",
        "intersection = S1.intersection(S2)\n",
        "print(\"Intersection of S1 and S2:\", intersection)"
      ],
      "metadata": {
        "colab": {
          "base_uri": "https://localhost:8080/"
        },
        "id": "zoezswbs_6FI",
        "outputId": "13c63c60-b8c4-40ba-be05-d0561e7ab3d2"
      },
      "execution_count": null,
      "outputs": [
        {
          "output_type": "stream",
          "name": "stdout",
          "text": [
            "Intersection of S1 and S2: {40, 50, 60}\n"
          ]
        }
      ]
    },
    {
      "cell_type": "code",
      "source": [
        "#(vi) WAP to find the S1 - S2.\n",
        "difference = S1.difference(S2)\n",
        "print(\"S1 - S2:\", difference)"
      ],
      "metadata": {
        "colab": {
          "base_uri": "https://localhost:8080/"
        },
        "id": "PpxX7mTiAEFf",
        "outputId": "0c326ee4-7cee-489b-f95f-e7ee4eb4639c"
      },
      "execution_count": null,
      "outputs": [
        {
          "output_type": "stream",
          "name": "stdout",
          "text": [
            "S1 - S2: {66, 20, 55}\n"
          ]
        }
      ]
    },
    {
      "cell_type": "markdown",
      "source": [
        "Q4. Write the following program."
      ],
      "metadata": {
        "id": "K7VqhCtQASVI"
      }
    },
    {
      "cell_type": "code",
      "source": [
        "#(i) WAP to print 100 random strings whose length between 6 and 8.\n",
        "import random\n",
        "import string\n",
        "\n",
        "def generate_random_string(length):\n",
        "    letters = string.ascii_lowercase\n",
        "    return ''.join(random.choice(letters) for _ in range(length))\n",
        "\n",
        "for _ in range(100):\n",
        "    random_length = random.randint(6, 8)\n",
        "    random_string = generate_random_string(random_length)\n",
        "    print(random_string)\n"
      ],
      "metadata": {
        "colab": {
          "base_uri": "https://localhost:8080/"
        },
        "id": "eJru6YVfAU-7",
        "outputId": "152fcd3a-7b46-4817-c008-5f651911791c"
      },
      "execution_count": null,
      "outputs": [
        {
          "output_type": "stream",
          "name": "stdout",
          "text": [
            "fwwrgt\n",
            "mnqfzhon\n",
            "kxhnqhb\n",
            "wbrkgphg\n",
            "diapgqfs\n",
            "ylkyje\n",
            "qfzskj\n",
            "tnozqazf\n",
            "fenyer\n",
            "kqavuynq\n",
            "aamwvtlp\n",
            "oqktjy\n",
            "efhwowmk\n",
            "sfyhqk\n",
            "tpqyhyq\n",
            "ioiita\n",
            "lmcgcbb\n",
            "ignndfl\n",
            "tdewhu\n",
            "ykckhjnb\n",
            "iamkwsoa\n",
            "twgmiaur\n",
            "mjzzly\n",
            "ctnhwr\n",
            "aeyldhtn\n",
            "ldoyosum\n",
            "hjcbth\n",
            "jmzgqqol\n",
            "ntruvzip\n",
            "pcxjafzy\n",
            "myuwaa\n",
            "txifwmv\n",
            "kpybiyy\n",
            "htjpxvln\n",
            "eiprnqs\n",
            "bemntcxb\n",
            "fgfotlme\n",
            "glntpxnu\n",
            "bitdnad\n",
            "anepgph\n",
            "ubpdsq\n",
            "nfvhsar\n",
            "afmjzbbo\n",
            "hwagookl\n",
            "knppjjo\n",
            "prrfwi\n",
            "bpavujg\n",
            "immgsrn\n",
            "wahvkgua\n",
            "opnmkuct\n",
            "wikkrm\n",
            "tmsvlwzq\n",
            "rbzrfrrq\n",
            "sloimn\n",
            "agpgce\n",
            "qhfcazyh\n",
            "esdomq\n",
            "klcsizv\n",
            "nwvbyzqb\n",
            "mqxxknag\n",
            "wtifln\n",
            "iixbwuzp\n",
            "zpmxuubx\n",
            "zolzjqm\n",
            "kgpcopv\n",
            "wlslzd\n",
            "lpslvi\n",
            "yumaee\n",
            "fsvdjk\n",
            "auasqqc\n",
            "kszwbl\n",
            "tvnjirbj\n",
            "pgthgczv\n",
            "gjmuiwhi\n",
            "bsugmzcg\n",
            "fkkizsx\n",
            "pbmcpk\n",
            "liwaps\n",
            "mzjarl\n",
            "tgewzzl\n",
            "gwzjgx\n",
            "hduzuz\n",
            "bbvvxgc\n",
            "pnmwjt\n",
            "lghhpv\n",
            "purbxro\n",
            "wetgcy\n",
            "idibxzah\n",
            "dfovhv\n",
            "ypgiovk\n",
            "zmhioxl\n",
            "jaowjrd\n",
            "ntggmydd\n",
            "bmhgqsyn\n",
            "uwvaiv\n",
            "bzbile\n",
            "xqooqkxv\n",
            "nlnzisq\n",
            "zsrgdyz\n",
            "zkttaqon\n"
          ]
        }
      ]
    },
    {
      "cell_type": "code",
      "source": [
        "#(ii) WAP to print all prime numbers between 600 and 800.\n",
        "def is_prime(n):\n",
        "    if n < 2:\n",
        "        return False\n",
        "    for i in range(2, int(n ** 0.5) + 1):\n",
        "        if n % i == 0:\n",
        "            return False\n",
        "    return True\n",
        "\n",
        "for num in range(600, 801):\n",
        "    if is_prime(num):\n",
        "        print(num)\n"
      ],
      "metadata": {
        "colab": {
          "base_uri": "https://localhost:8080/"
        },
        "id": "ZXdWA99WBtYh",
        "outputId": "2de67c75-2ca9-4904-a18e-e429943bb6ab"
      },
      "execution_count": null,
      "outputs": [
        {
          "output_type": "stream",
          "name": "stdout",
          "text": [
            "601\n",
            "607\n",
            "613\n",
            "617\n",
            "619\n",
            "631\n",
            "641\n",
            "643\n",
            "647\n",
            "653\n",
            "659\n",
            "661\n",
            "673\n",
            "677\n",
            "683\n",
            "691\n",
            "701\n",
            "709\n",
            "719\n",
            "727\n",
            "733\n",
            "739\n",
            "743\n",
            "751\n",
            "757\n",
            "761\n",
            "769\n",
            "773\n",
            "787\n",
            "797\n"
          ]
        }
      ]
    },
    {
      "cell_type": "code",
      "source": [
        "#(iii) WAP to print all numbers between 100 and 1000 that are divisible by 7 and 9.\n",
        "for num in range(100, 1001):\n",
        "    if num % 7 == 0 and num % 9 == 0:\n",
        "        print(num)\n"
      ],
      "metadata": {
        "colab": {
          "base_uri": "https://localhost:8080/"
        },
        "id": "BBJFvSqzB0w8",
        "outputId": "a7eea34c-8ec1-43fc-8e04-058d2dbd16a5"
      },
      "execution_count": null,
      "outputs": [
        {
          "output_type": "stream",
          "name": "stdout",
          "text": [
            "126\n",
            "189\n",
            "252\n",
            "315\n",
            "378\n",
            "441\n",
            "504\n",
            "567\n",
            "630\n",
            "693\n",
            "756\n",
            "819\n",
            "882\n",
            "945\n"
          ]
        }
      ]
    },
    {
      "cell_type": "markdown",
      "source": [
        "Q5. WAP to create two lists of 10 random numbers between 10 and 30; Find"
      ],
      "metadata": {
        "id": "VSepZCw5B9I2"
      }
    },
    {
      "cell_type": "code",
      "source": [
        "import random\n",
        "list1 = random.sample(range(10, 31), 10)\n",
        "list2 = random.sample(range(10, 31), 10)\n",
        "print(\"List 1:\", list1)\n",
        "print(\"List 2:\", list2)"
      ],
      "metadata": {
        "colab": {
          "base_uri": "https://localhost:8080/"
        },
        "id": "0QkAUg0TCsCz",
        "outputId": "a95295d6-f909-4539-82ea-19a3a5d96919"
      },
      "execution_count": null,
      "outputs": [
        {
          "output_type": "stream",
          "name": "stdout",
          "text": [
            "List 1: [26, 16, 12, 10, 13, 29, 24, 18, 23, 15]\n",
            "List 2: [15, 14, 20, 16, 30, 11, 25, 18, 26, 29]\n"
          ]
        }
      ]
    },
    {
      "cell_type": "code",
      "source": [
        "#i) Common numbers in the two lists\n",
        "common_num = set(list1) & set(list2)\n",
        "print(\"Common numbers:\", common_num)"
      ],
      "metadata": {
        "colab": {
          "base_uri": "https://localhost:8080/"
        },
        "id": "r7JP9IC7B_cN",
        "outputId": "f9fa4dde-601b-4ae3-e6b6-14f208bc1603"
      },
      "execution_count": null,
      "outputs": [
        {
          "output_type": "stream",
          "name": "stdout",
          "text": [
            "Common numbers: {15, 16, 18, 26, 29}\n"
          ]
        }
      ]
    },
    {
      "cell_type": "code",
      "source": [
        "#(ii) Unique numbers in both the list\n",
        "unique_num = set(list1) ^ set(list2)\n",
        "print(\"Unique numbers:\", unique_num)\n"
      ],
      "metadata": {
        "colab": {
          "base_uri": "https://localhost:8080/"
        },
        "id": "6cSSaUMNCKAx",
        "outputId": "283f0fa6-1724-4d42-ec81-0810e23fb1a3"
      },
      "execution_count": null,
      "outputs": [
        {
          "output_type": "stream",
          "name": "stdout",
          "text": [
            "Unique numbers: {10, 11, 12, 13, 14, 20, 23, 24, 25, 30}\n"
          ]
        }
      ]
    },
    {
      "cell_type": "code",
      "source": [
        "#iii) Minimum in both the list\n",
        "min_value = min(min(list1), min(list2))\n",
        "print(\"Minimum value:\", min_value)\n"
      ],
      "metadata": {
        "colab": {
          "base_uri": "https://localhost:8080/"
        },
        "id": "hM6nl1WQCMME",
        "outputId": "7c9c4cfb-8ed8-4a36-95b0-967c0907ae44"
      },
      "execution_count": null,
      "outputs": [
        {
          "output_type": "stream",
          "name": "stdout",
          "text": [
            "Minimum value: 10\n"
          ]
        }
      ]
    },
    {
      "cell_type": "code",
      "source": [
        "#(iv) Maximum in both the list\n",
        "max_value = max(max(list1), max(list2))\n",
        "print(\"Maximum value:\", max_value)"
      ],
      "metadata": {
        "colab": {
          "base_uri": "https://localhost:8080/"
        },
        "id": "jZTaZRoNCSkt",
        "outputId": "d82e9ab3-6f7e-428a-c84f-e4e26bcda599"
      },
      "execution_count": null,
      "outputs": [
        {
          "output_type": "stream",
          "name": "stdout",
          "text": [
            "Maximum value: 30\n"
          ]
        }
      ]
    },
    {
      "cell_type": "code",
      "source": [
        "#v) Sum of both the lists\n",
        "sum_of_lists = sum(list1) + sum(list2)\n",
        "print(\"Sum of both lists:\", sum_of_lists)"
      ],
      "metadata": {
        "colab": {
          "base_uri": "https://localhost:8080/"
        },
        "id": "vi1XNVOlCVX0",
        "outputId": "1af2ed70-b213-4c5b-f1e5-bcc20f245335"
      },
      "execution_count": null,
      "outputs": [
        {
          "output_type": "stream",
          "name": "stdout",
          "text": [
            "Sum of both lists: 390\n"
          ]
        }
      ]
    },
    {
      "cell_type": "markdown",
      "source": [
        "Q6. WAP to create a list of 100 random numbers between 100 and 900. Count and print the:"
      ],
      "metadata": {
        "id": "mT0VgUX3DQRz"
      }
    },
    {
      "cell_type": "code",
      "source": [
        "import random\n",
        "\n",
        "numbers_list = random.sample(range(100, 901), 100)\n",
        "#All odd numbers\n",
        "odd_numbers = [num for num in numbers_list if num % 2 != 0]\n",
        "count_odd_numbers = len(odd_numbers)\n",
        "print(\"Odd numbers:\", odd_numbers)\n",
        "print(\"Count of odd numbers:\", count_odd_numbers)\n"
      ],
      "metadata": {
        "colab": {
          "base_uri": "https://localhost:8080/"
        },
        "id": "Sd0VOuixDS_9",
        "outputId": "2921873a-a1ca-40f5-c491-5bc6732c49c8"
      },
      "execution_count": null,
      "outputs": [
        {
          "output_type": "stream",
          "name": "stdout",
          "text": [
            "Odd numbers: [553, 537, 447, 443, 665, 467, 351, 589, 705, 201, 379, 707, 347, 667, 715, 839, 515, 219, 751, 631, 737, 369, 425, 871, 623, 397, 711, 265, 187, 207, 799, 301, 493, 575, 141, 509, 679, 277, 673, 671, 877, 613, 885]\n",
            "Count of odd numbers: 43\n"
          ]
        }
      ]
    },
    {
      "cell_type": "code",
      "source": [
        "#(ii) All even numbers\n",
        "even_numbers = [num for num in numbers_list if num % 2 == 0]\n",
        "count_even_numbers = len(even_numbers)\n",
        "print(\"Even numbers:\", even_numbers)\n",
        "print(\"Count of even numbers:\", count_even_numbers)\n"
      ],
      "metadata": {
        "colab": {
          "base_uri": "https://localhost:8080/"
        },
        "id": "4Il1YxWD_HbC",
        "outputId": "df2d7fcc-4ddd-424e-acc9-ca6e9143d11a"
      },
      "execution_count": null,
      "outputs": [
        {
          "output_type": "stream",
          "name": "stdout",
          "text": [
            "Even numbers: [250, 632, 514, 610, 548, 190, 152, 654, 800, 528, 818, 270, 700, 602, 714, 448, 652, 414, 788, 550, 570, 392, 532, 886, 566, 218, 710, 640, 492, 398, 118, 236, 870, 796, 200, 624, 842, 126, 798, 404, 880, 690, 662, 332, 318, 716, 612, 262, 650, 286, 198, 546, 486, 258, 706, 748, 854]\n",
            "Count of even numbers: 57\n"
          ]
        }
      ]
    },
    {
      "cell_type": "code",
      "source": [
        "#iii) All prime numbers\n",
        "def is_prime(n):\n",
        "    if n < 2:\n",
        "        return False\n",
        "    for i in range(2, int(n ** 0.5) + 1):\n",
        "        if n % i == 0:\n",
        "            return False\n",
        "    return True\n",
        "\n",
        "prime_numbers = [num for num in numbers_list if is_prime(num)]\n",
        "count_prime_numbers = len(prime_numbers)\n",
        "print(\"Prime numbers:\", prime_numbers)\n",
        "print(\"Count of prime numbers:\", count_prime_numbers)"
      ],
      "metadata": {
        "colab": {
          "base_uri": "https://localhost:8080/"
        },
        "id": "_-oBN0WUADza",
        "outputId": "1f715930-27e6-4dc0-ef00-4b3cfb08904e"
      },
      "execution_count": null,
      "outputs": [
        {
          "output_type": "stream",
          "name": "stdout",
          "text": [
            "Prime numbers: [443, 467, 379, 347, 839, 751, 631, 397, 509, 277, 673, 877, 613]\n",
            "Count of prime numbers: 13\n"
          ]
        }
      ]
    },
    {
      "cell_type": "markdown",
      "source": [
        "Q7. D is a dictionary defined as D={1:\"One\",2:\"Two\",3:\"Three\",4:\"Four\", 5:\"Five\"}.\n",
        "WAP to read all the keys and values from dictionary and write to the file in the given below format."
      ],
      "metadata": {
        "id": "oEd7xYfjAUix"
      }
    },
    {
      "cell_type": "code",
      "source": [
        "D = {1: \"One\", 2: \"Two\", 3: \"Three\", 4: \"Four\", 5: \"Five\"}\n",
        "\n",
        "# Open the file in write mode\n",
        "file = open(\"dictionary_output.txt\", \"w\")\n",
        "\n",
        "# Iterate over the dictionary and write keys and values to the file\n",
        "for key, value in D.items():\n",
        "    file.write(f\"{key}, {value} \")\n",
        "\n",
        "# Close the file\n",
        "file.close()"
      ],
      "metadata": {
        "id": "3uV_qYaGASfw"
      },
      "execution_count": null,
      "outputs": []
    },
    {
      "cell_type": "markdown",
      "source": [
        "Q8. L is a list defined as L={\"One\",\"Two\",\"Three\",\"Four\",\"Five\"}.\n",
        "WAP to count the length of reach element from a list and write to the file in the given below format:\n",
        "One, 3 Two, 3 Four, 4"
      ],
      "metadata": {
        "id": "0u1J0e-dGSDp"
      }
    },
    {
      "cell_type": "code",
      "source": [
        "L = [\"One\", \"Two\", \"Three\", \"Four\", \"Five\"]\n",
        "\n",
        "# Open the file in write mode\n",
        "file = open(\"length_output.txt\", \"w\")\n",
        "\n",
        "# Iterate over the list and write the elements and their lengths to the file\n",
        "for element in L:\n",
        "    length = len(element)\n",
        "    file.write(f\"{element}, {length} \")\n",
        "\n",
        "# Close the file\n",
        "file.close()\n"
      ],
      "metadata": {
        "id": "aWU0jT42GRKH"
      },
      "execution_count": null,
      "outputs": []
    },
    {
      "cell_type": "markdown",
      "source": [
        "Q9. Write to the file 100 random strings whose length between 10 and 15."
      ],
      "metadata": {
        "id": "PYHUwSuIGiKW"
      }
    },
    {
      "cell_type": "code",
      "source": [
        "import random\n",
        "import string\n",
        "\n",
        "# Open the file in write mode\n",
        "file = open(\"random_strings.txt\", \"w\")\n",
        "\n",
        "# Generate and write 100 random strings to the file\n",
        "for _ in range(100):\n",
        "    random_length = random.randint(10, 15)\n",
        "    random_string = ''.join(random.choice(string.ascii_letters) for _ in range(random_length))\n",
        "    file.write(random_string + '\\n')\n",
        "\n",
        "# Close the file\n",
        "file.close()\n"
      ],
      "metadata": {
        "id": "KTrqtjLNGgi-"
      },
      "execution_count": null,
      "outputs": []
    },
    {
      "cell_type": "markdown",
      "source": [
        "Q10. Write to the file all prime numbers between 600 and 800."
      ],
      "metadata": {
        "id": "bwc60VW7HGQP"
      }
    },
    {
      "cell_type": "code",
      "source": [
        "def is_prime(n):\n",
        "    if n < 2:\n",
        "        return False\n",
        "    for i in range(2, int(n ** 0.5) + 1):\n",
        "        if n % i == 0:\n",
        "            return False\n",
        "    return True\n",
        "\n",
        "# Open the file in write mode\n",
        "file = open(\"prime_numbers.txt\", \"w\")\n",
        "\n",
        "# Find and write all prime numbers between 600 and 800 to the file\n",
        "for num in range(600, 801):\n",
        "    if is_prime(num):\n",
        "        file.write(str(num) + '\\n')\n",
        "\n",
        "# Close the file\n",
        "file.close()\n"
      ],
      "metadata": {
        "id": "AIClPsWeHJeM"
      },
      "execution_count": null,
      "outputs": []
    },
    {
      "cell_type": "markdown",
      "source": [
        "Q11. WAP to calculate the time taken by a program."
      ],
      "metadata": {
        "id": "9Tj2MNEZHWo6"
      }
    },
    {
      "cell_type": "code",
      "source": [
        "import time\n",
        "\n",
        "# Start the timer\n",
        "start_time = time.time()\n",
        "\n",
        "# program code\n",
        "def is_prime(n):\n",
        "    if n < 2:\n",
        "        return False\n",
        "    for i in range(2, int(n ** 0.5) + 1):\n",
        "        if n % i == 0:\n",
        "            return False\n",
        "    return True\n",
        "\n",
        "for num in range(600, 801):\n",
        "    if is_prime(num):\n",
        "        print(num)\n",
        "\n",
        "# End the timer\n",
        "end_time = time.time()\n",
        "\n",
        "# Calculate the elapsed time\n",
        "elapsed_time = end_time - start_time\n",
        "\n",
        "# Print the elapsed time\n",
        "print(f\"Time taken: {elapsed_time} seconds\")\n"
      ],
      "metadata": {
        "colab": {
          "base_uri": "https://localhost:8080/"
        },
        "id": "vL-o6mduHZ2E",
        "outputId": "35e376c0-93f2-46b0-bf4c-028843d6b9bb"
      },
      "execution_count": null,
      "outputs": [
        {
          "output_type": "stream",
          "name": "stdout",
          "text": [
            "601\n",
            "607\n",
            "613\n",
            "617\n",
            "619\n",
            "631\n",
            "641\n",
            "643\n",
            "647\n",
            "653\n",
            "659\n",
            "661\n",
            "673\n",
            "677\n",
            "683\n",
            "691\n",
            "701\n",
            "709\n",
            "719\n",
            "727\n",
            "733\n",
            "739\n",
            "743\n",
            "751\n",
            "757\n",
            "761\n",
            "769\n",
            "773\n",
            "787\n",
            "797\n",
            "Time taken: 0.0069506168365478516 seconds\n"
          ]
        }
      ]
    },
    {
      "cell_type": "markdown",
      "source": [
        "Q12. WAP to sort following number of elements in a list, calculate time taken and plot the graph."
      ],
      "metadata": {
        "id": "A9DCJhHoH2PM"
      }
    },
    {
      "cell_type": "code",
      "source": [
        "import time\n",
        "import matplotlib.pyplot as plt\n",
        "\n",
        "# Initialize the list of number of elements in the list\n",
        "num_elements = [5000, 10000, 15000, 20000, 25000]\n",
        "\n",
        "# Initialize the list to store the time taken\n",
        "time_taken = []\n",
        "\n",
        "# Perform sorting for each number of elements and measure the time taken\n",
        "for n in num_elements:\n",
        "    # Generate a list of random numbers\n",
        "    elements = [random.randint(1, 100) for _ in range(n)]\n",
        "\n",
        "    # Start the timer\n",
        "    start_time = time.time()\n",
        "\n",
        "    # Sort the list\n",
        "    elements.sort()\n",
        "\n",
        "    # End the timer\n",
        "    end_time = time.time()\n",
        "\n",
        "    # Calculate the elapsed time\n",
        "    elapsed_time = end_time - start_time\n",
        "\n",
        "    # Append the elapsed time to the list\n",
        "    time_taken.append(elapsed_time)\n",
        "\n",
        "# Plot the graph\n",
        "plt.plot(num_elements, time_taken)\n",
        "plt.xlabel('Number of Elements')\n",
        "plt.ylabel('Time Taken (seconds)')\n",
        "plt.title('Sorting Time vs. Number of Elements')\n",
        "plt.show()\n"
      ],
      "metadata": {
        "colab": {
          "base_uri": "https://localhost:8080/",
          "height": 472
        },
        "id": "4aaRGjyaH1T2",
        "outputId": "31c24858-cc07-493f-88d6-633c0856b5bc"
      },
      "execution_count": null,
      "outputs": [
        {
          "output_type": "display_data",
          "data": {
            "text/plain": [
              "<Figure size 640x480 with 1 Axes>"
            ],
            "image/png": "[encoded data removed]"
          },
          "metadata": {}
        }
      ]
    },
    {
      "cell_type": "markdown",
      "source": [
        "Q13. WAP to create a dictionary of student marks in five subjects and you have to find the student having maximum and minimum average marks."
      ],
      "metadata": {
        "id": "YhVhre9lIL08"
      }
    },
    {
      "cell_type": "code",
      "source": [
        "# Create a dictionary of student marks\n",
        "student_marks = {\n",
        "    \"anita\": [90, 85, 92, 88, 94],\n",
        "    \"Sarath\": [80, 92, 87, 89, 91],\n",
        "    \"Mithun\": [78, 86, 80, 92, 88],\n",
        "    \"lily\": [94, 91, 85, 89, 90],\n",
        "    \"Dhruv\": [82, 83, 87, 85, 88]\n",
        "}\n",
        "\n",
        "# Calculate the average marks for each student\n",
        "average_marks = {}\n",
        "for student, marks in student_marks.items():\n",
        "    average_marks[student] = sum(marks) / len(marks)\n",
        "\n",
        "# Find the student with maximum and minimum average marks\n",
        "student_with_max_avg = max(average_marks, key=average_marks.get)\n",
        "student_with_min_avg = min(average_marks, key=average_marks.get)\n",
        "\n",
        "# Print the results\n",
        "print(f\"Student with maximum average marks: {student_with_max_avg} ({average_marks[student_with_max_avg]})\")\n",
        "print(f\"Student with minimum average marks: {student_with_min_avg} ({average_marks[student_with_min_avg]})\")\n"
      ],
      "metadata": {
        "colab": {
          "base_uri": "https://localhost:8080/"
        },
        "id": "MENX8lr1IOE8",
        "outputId": "c5511fc9-1d1d-4b83-b7df-e381cb927afc"
      },
      "execution_count": null,
      "outputs": [
        {
          "output_type": "stream",
          "name": "stdout",
          "text": [
            "Student with maximum average marks: anita (89.8)\n",
            "Student with minimum average marks: Mithun (84.8)\n"
          ]
        }
      ]
    }
  ]
}